{
 "cells": [
  {
   "cell_type": "code",
   "execution_count": 1,
   "id": "d297c0df",
   "metadata": {},
   "outputs": [],
   "source": [
    "import yt_dlp\n",
    "from timeit import default_timer"
   ]
  },
  {
   "cell_type": "code",
   "execution_count": 2,
   "id": "27631d4d",
   "metadata": {},
   "outputs": [
    {
     "name": "stderr",
     "output_type": "stream",
     "text": [
      "WARNING: ffmpeg not found. The downloaded format may not be the best available. Installing ffmpeg is strongly recommended: https://github.com/yt-dlp/yt-dlp#dependencies\n"
     ]
    },
    {
     "name": "stdout",
     "output_type": "stream",
     "text": [
      "[youtube] Extracting URL: https://www.youtube.com/watch?v=bn8gP5N8hqM\n",
      "[youtube] bn8gP5N8hqM: Downloading webpage\n",
      "[youtube] bn8gP5N8hqM: Downloading tv client config\n",
      "[youtube] bn8gP5N8hqM: Downloading player 236fc64d-main\n",
      "[youtube] bn8gP5N8hqM: Downloading tv player API JSON\n",
      "[youtube] bn8gP5N8hqM: Downloading ios player API JSON\n",
      "[youtube] bn8gP5N8hqM: Downloading m3u8 information\n",
      "[info] bn8gP5N8hqM: Downloading 1 format(s): 251\n",
      "[download] Destination: songs\\The Weeknd - Cry For Me (Official Music Video).webm\n",
      "[download] 100% of    3.93MiB in 00:00:00 at 16.04MiB/s    \n",
      "[ExtractAudio] Destination: songs\\The Weeknd - Cry For Me (Official Music Video).mp3\n",
      "Deleting original file songs\\The Weeknd - Cry For Me (Official Music Video).webm (pass -k to keep)\n",
      "Duration: 20.91 s\n"
     ]
    }
   ],
   "source": [
    "# get video url using youtubeDL\n",
    "def get_first_video_url(search_query):\n",
    "    ydl_opts = {\n",
    "        'quiet': True,\n",
    "        'skip_download': True,\n",
    "    }\n",
    "    with yt_dlp.YoutubeDL(ydl_opts) as ydl:\n",
    "        result = ydl.extract_info(f\"ytsearch1:{search_query}\", download=False)\n",
    "        video = result['entries'][0] # type: ignore\n",
    "        return video['webpage_url']\n",
    "\n",
    "# input song\n",
    "search = input(\"Song: \")\n",
    "\n",
    "# dev only: start timer\n",
    "start = default_timer()\n",
    "\n",
    "# get yt video url\n",
    "video_url = get_first_video_url(search)\n",
    "\n",
    "# post processing options\n",
    "options = {\n",
    "    'format': 'bestaudio/best',\n",
    "    'outtmpl': './songs/%(title)s.%(ext)s',\n",
    "    'postprocessors': [{\n",
    "        'key': 'FFmpegExtractAudio',\n",
    "        'preferredcodec': 'mp3',\n",
    "        'preferredquality': '192',\n",
    "    }],\n",
    "    'ffmpeg_location': './ffmpeg/bin/ffmpeg.exe',\n",
    "}\n",
    "\n",
    "# download the video in mp3 format using post processing options\n",
    "with yt_dlp.YoutubeDL(options) as ydl:\n",
    "    ydl.download([video_url])\n",
    "\n",
    "# dev only: stop timer, print time taken to download\n",
    "duration = default_timer() - start\n",
    "print(\"Duration:\", round(duration, 2), \"s\")"
   ]
  }
 ],
 "metadata": {
  "kernelspec": {
   "display_name": "Python 3",
   "language": "python",
   "name": "python3"
  },
  "language_info": {
   "codemirror_mode": {
    "name": "ipython",
    "version": 3
   },
   "file_extension": ".py",
   "mimetype": "text/x-python",
   "name": "python",
   "nbconvert_exporter": "python",
   "pygments_lexer": "ipython3",
   "version": "3.13.1"
  }
 },
 "nbformat": 4,
 "nbformat_minor": 5
}
